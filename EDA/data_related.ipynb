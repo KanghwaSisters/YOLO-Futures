{
 "cells": [
  {
   "cell_type": "markdown",
   "id": "153c3dbb",
   "metadata": {},
   "source": [
    "## Import"
   ]
  },
  {
   "cell_type": "code",
   "execution_count": 40,
   "id": "00e6dade",
   "metadata": {},
   "outputs": [],
   "source": [
    "import numpy as np\n",
    "import pandas as pd\n",
    "import matplotlib.pyplot as plt\n",
    "from collections import defaultdict\n",
    "import seaborn as sns\n",
    "import os\n",
    "import datetime\n",
    "import pickle\n",
    "\n",
    "from decimal import Decimal"
   ]
  },
  {
   "cell_type": "markdown",
   "id": "6e3b6fe0",
   "metadata": {},
   "source": [
    "## Info"
   ]
  },
  {
   "cell_type": "code",
   "execution_count": 5,
   "id": "37f4068a",
   "metadata": {},
   "outputs": [],
   "source": [
    "event_days = {'CircuitBreaker' : [datetime.date(2020,3,13),\n",
    "                                  datetime.date(2020,3,19)],\n",
    "              'KoreanSAT' : [datetime.date(2010,11,18),\n",
    "                             datetime.date(2011,11,10),\n",
    "                             datetime.date(2012,11,8),\n",
    "                             datetime.date(2013,11,7),\n",
    "                             datetime.date(2014,11,13),\n",
    "                             datetime.date(2015,11,12),\n",
    "                             datetime.date(2016,11,17),\n",
    "                             datetime.date(2017,11,16),\n",
    "                             datetime.date(2017,11,23),\n",
    "                             datetime.date(2018,11,15),\n",
    "                             datetime.date(2019,11,14)]\n",
    "                             }"
   ]
  },
  {
   "cell_type": "markdown",
   "id": "be609f3e",
   "metadata": {},
   "source": [
    "## Data LOAD"
   ]
  },
  {
   "cell_type": "code",
   "execution_count": 20,
   "id": "f85cdd74",
   "metadata": {},
   "outputs": [],
   "source": [
    "with open('../data/processed/kospi200_preprocessed.pkl', 'rb') as f:\n",
    "    df = pickle.load(f)"
   ]
  },
  {
   "cell_type": "code",
   "execution_count": 4,
   "id": "c46c04dd",
   "metadata": {},
   "outputs": [
    {
     "data": {
      "text/html": [
       "<div>\n",
       "<style scoped>\n",
       "    .dataframe tbody tr th:only-of-type {\n",
       "        vertical-align: middle;\n",
       "    }\n",
       "\n",
       "    .dataframe tbody tr th {\n",
       "        vertical-align: top;\n",
       "    }\n",
       "\n",
       "    .dataframe thead th {\n",
       "        text-align: right;\n",
       "    }\n",
       "</style>\n",
       "<table border=\"1\" class=\"dataframe\">\n",
       "  <thead>\n",
       "    <tr style=\"text-align: right;\">\n",
       "      <th></th>\n",
       "      <th>date</th>\n",
       "      <th>time</th>\n",
       "      <th>open</th>\n",
       "      <th>high</th>\n",
       "      <th>low</th>\n",
       "      <th>close</th>\n",
       "      <th>prevClose</th>\n",
       "      <th>vol</th>\n",
       "    </tr>\n",
       "  </thead>\n",
       "  <tbody>\n",
       "    <tr>\n",
       "      <th>2010-02-16 09:01:00</th>\n",
       "      <td>20100216</td>\n",
       "      <td>901</td>\n",
       "      <td>207.55</td>\n",
       "      <td>207.65</td>\n",
       "      <td>207.50</td>\n",
       "      <td>207.60</td>\n",
       "      <td>207.5</td>\n",
       "      <td>3985.0</td>\n",
       "    </tr>\n",
       "    <tr>\n",
       "      <th>2010-02-16 09:02:00</th>\n",
       "      <td>20100216</td>\n",
       "      <td>902</td>\n",
       "      <td>207.60</td>\n",
       "      <td>207.65</td>\n",
       "      <td>207.25</td>\n",
       "      <td>207.55</td>\n",
       "      <td>207.5</td>\n",
       "      <td>5095.0</td>\n",
       "    </tr>\n",
       "    <tr>\n",
       "      <th>2010-02-16 09:03:00</th>\n",
       "      <td>20100216</td>\n",
       "      <td>903</td>\n",
       "      <td>207.55</td>\n",
       "      <td>207.80</td>\n",
       "      <td>207.50</td>\n",
       "      <td>207.60</td>\n",
       "      <td>207.5</td>\n",
       "      <td>2175.0</td>\n",
       "    </tr>\n",
       "    <tr>\n",
       "      <th>2010-02-16 09:04:00</th>\n",
       "      <td>20100216</td>\n",
       "      <td>904</td>\n",
       "      <td>207.55</td>\n",
       "      <td>207.85</td>\n",
       "      <td>207.55</td>\n",
       "      <td>207.80</td>\n",
       "      <td>207.5</td>\n",
       "      <td>1301.0</td>\n",
       "    </tr>\n",
       "    <tr>\n",
       "      <th>2010-02-16 09:05:00</th>\n",
       "      <td>20100216</td>\n",
       "      <td>905</td>\n",
       "      <td>207.80</td>\n",
       "      <td>208.15</td>\n",
       "      <td>207.80</td>\n",
       "      <td>208.05</td>\n",
       "      <td>207.5</td>\n",
       "      <td>3870.0</td>\n",
       "    </tr>\n",
       "  </tbody>\n",
       "</table>\n",
       "</div>"
      ],
      "text/plain": [
       "                         date time    open    high     low   close  prevClose  \\\n",
       "2010-02-16 09:01:00  20100216  901  207.55  207.65  207.50  207.60      207.5   \n",
       "2010-02-16 09:02:00  20100216  902  207.60  207.65  207.25  207.55      207.5   \n",
       "2010-02-16 09:03:00  20100216  903  207.55  207.80  207.50  207.60      207.5   \n",
       "2010-02-16 09:04:00  20100216  904  207.55  207.85  207.55  207.80      207.5   \n",
       "2010-02-16 09:05:00  20100216  905  207.80  208.15  207.80  208.05      207.5   \n",
       "\n",
       "                        vol  \n",
       "2010-02-16 09:01:00  3985.0  \n",
       "2010-02-16 09:02:00  5095.0  \n",
       "2010-02-16 09:03:00  2175.0  \n",
       "2010-02-16 09:04:00  1301.0  \n",
       "2010-02-16 09:05:00  3870.0  "
      ]
     },
     "execution_count": 4,
     "metadata": {},
     "output_type": "execute_result"
    }
   ],
   "source": [
    "df.head(5)"
   ]
  },
  {
   "cell_type": "code",
   "execution_count": null,
   "id": "810aca14",
   "metadata": {},
   "outputs": [],
   "source": [
    "# 20100716 데이터를 삭제 \n",
    "df = df[df.index.date != datetime.date(2010, 7, 16)]"
   ]
  },
  {
   "cell_type": "markdown",
   "id": "7978565c",
   "metadata": {},
   "source": [
    "## Nan을 삭제하지 않은 4버전"
   ]
  },
  {
   "cell_type": "code",
   "execution_count": null,
   "id": "d7cef445",
   "metadata": {},
   "outputs": [],
   "source": [
    "with open('../data/processed/kospi200_clean_version_Nan.pkl', 'wb') as f:\n",
    "    pickle.dump(df, f)"
   ]
  },
  {
   "cell_type": "markdown",
   "id": "c5089cd3",
   "metadata": {},
   "source": [
    "## 보간하지 않은 버전 -- 2버전"
   ]
  },
  {
   "cell_type": "code",
   "execution_count": 35,
   "id": "2a5344a2",
   "metadata": {},
   "outputs": [
    {
     "data": {
      "text/plain": [
       "date         0\n",
       "time         0\n",
       "open         0\n",
       "high         0\n",
       "low          0\n",
       "close        0\n",
       "prevClose    0\n",
       "vol          0\n",
       "dtype: int64"
      ]
     },
     "execution_count": 35,
     "metadata": {},
     "output_type": "execute_result"
    }
   ],
   "source": [
    "n_ffill_df = df[~df.isnull().any(axis=1)]\n",
    "n_ffill_df.isnull().sum()"
   ]
  },
  {
   "cell_type": "code",
   "execution_count": 36,
   "id": "ac0fd7be",
   "metadata": {},
   "outputs": [],
   "source": [
    "with open('../data/processed/kospi200_clean_version.pkl', 'wb') as f:\n",
    "    pickle.dump(n_ffill_df, f)"
   ]
  },
  {
   "cell_type": "markdown",
   "id": "4dde38ae",
   "metadata": {},
   "source": [
    "## ffill한 버전 -- 3"
   ]
  },
  {
   "cell_type": "code",
   "execution_count": 22,
   "id": "3a5e75bb",
   "metadata": {},
   "outputs": [
    {
     "name": "stderr",
     "output_type": "stream",
     "text": [
      "/var/folders/zl/ljg24f_15m93w7f2rt14c2n80000gn/T/ipykernel_74480/3144402752.py:2: FutureWarning: The behavior of 'isin' with dtype=datetime64[ns] and castable values (e.g. strings) is deprecated. In a future version, these will not be considered matching by isin. Explicitly cast to the appropriate dtype before calling isin instead.\n",
      "  circuit_breaker_df = df[df.index.normalize().isin(event_days['CircuitBreaker'])]\n",
      "/var/folders/zl/ljg24f_15m93w7f2rt14c2n80000gn/T/ipykernel_74480/3144402752.py:3: FutureWarning: The behavior of 'isin' with dtype=datetime64[ns] and castable values (e.g. strings) is deprecated. In a future version, these will not be considered matching by isin. Explicitly cast to the appropriate dtype before calling isin instead.\n",
      "  cleaned_df = df[~df.index.normalize().isin(event_days['CircuitBreaker'])]\n"
     ]
    }
   ],
   "source": [
    "# 서킷브레이크 데이터와 이외 데이터로 나눔 \n",
    "circuit_breaker_df = df[df.index.normalize().isin(event_days['CircuitBreaker'])]\n",
    "cleaned_df = df[~df.index.normalize().isin(event_days['CircuitBreaker'])]"
   ]
  },
  {
   "cell_type": "code",
   "execution_count": 23,
   "id": "bebaf69a",
   "metadata": {},
   "outputs": [],
   "source": [
    "# 결측치 채우기 \n",
    "df_cleaned = cleaned_df.ffill()"
   ]
  },
  {
   "cell_type": "code",
   "execution_count": null,
   "id": "d5c89fe0",
   "metadata": {},
   "outputs": [
    {
     "data": {
      "text/plain": [
       "date         0\n",
       "time         0\n",
       "open         0\n",
       "high         0\n",
       "low          0\n",
       "close        0\n",
       "prevClose    0\n",
       "vol          0\n",
       "dtype: int64"
      ]
     },
     "execution_count": 26,
     "metadata": {},
     "output_type": "execute_result"
    }
   ],
   "source": [
    "df_cleaned.isnull().sum() # 결측치 제거가 제대로 됐는지 확인하기 "
   ]
  },
  {
   "cell_type": "code",
   "execution_count": 28,
   "id": "9d68537d",
   "metadata": {},
   "outputs": [
    {
     "data": {
      "text/html": [
       "<div>\n",
       "<style scoped>\n",
       "    .dataframe tbody tr th:only-of-type {\n",
       "        vertical-align: middle;\n",
       "    }\n",
       "\n",
       "    .dataframe tbody tr th {\n",
       "        vertical-align: top;\n",
       "    }\n",
       "\n",
       "    .dataframe thead th {\n",
       "        text-align: right;\n",
       "    }\n",
       "</style>\n",
       "<table border=\"1\" class=\"dataframe\">\n",
       "  <thead>\n",
       "    <tr style=\"text-align: right;\">\n",
       "      <th></th>\n",
       "      <th>date</th>\n",
       "      <th>time</th>\n",
       "      <th>open</th>\n",
       "      <th>high</th>\n",
       "      <th>low</th>\n",
       "      <th>close</th>\n",
       "      <th>prevClose</th>\n",
       "      <th>vol</th>\n",
       "    </tr>\n",
       "  </thead>\n",
       "  <tbody>\n",
       "    <tr>\n",
       "      <th>2010-02-16 09:01:00</th>\n",
       "      <td>20100216</td>\n",
       "      <td>901</td>\n",
       "      <td>207.55</td>\n",
       "      <td>207.65</td>\n",
       "      <td>207.50</td>\n",
       "      <td>207.60</td>\n",
       "      <td>207.5</td>\n",
       "      <td>3985.0</td>\n",
       "    </tr>\n",
       "    <tr>\n",
       "      <th>2010-02-16 09:02:00</th>\n",
       "      <td>20100216</td>\n",
       "      <td>902</td>\n",
       "      <td>207.60</td>\n",
       "      <td>207.65</td>\n",
       "      <td>207.25</td>\n",
       "      <td>207.55</td>\n",
       "      <td>207.5</td>\n",
       "      <td>5095.0</td>\n",
       "    </tr>\n",
       "  </tbody>\n",
       "</table>\n",
       "</div>"
      ],
      "text/plain": [
       "                         date time    open    high     low   close  prevClose  \\\n",
       "2010-02-16 09:01:00  20100216  901  207.55  207.65  207.50  207.60      207.5   \n",
       "2010-02-16 09:02:00  20100216  902  207.60  207.65  207.25  207.55      207.5   \n",
       "\n",
       "                        vol  \n",
       "2010-02-16 09:01:00  3985.0  \n",
       "2010-02-16 09:02:00  5095.0  "
      ]
     },
     "execution_count": 28,
     "metadata": {},
     "output_type": "execute_result"
    }
   ],
   "source": [
    "total_df = pd.concat([df_cleaned, circuit_breaker_df], axis=0)\n",
    "total_df.sort_index()\n",
    "total_df.head(2)"
   ]
  },
  {
   "cell_type": "code",
   "execution_count": null,
   "id": "83f9cc3b",
   "metadata": {},
   "outputs": [
    {
     "data": {
      "text/plain": [
       "date         58\n",
       "time         58\n",
       "open         58\n",
       "high         58\n",
       "low          58\n",
       "close        58\n",
       "prevClose    58\n",
       "vol          58\n",
       "dtype: int64"
      ]
     },
     "execution_count": 29,
     "metadata": {},
     "output_type": "execute_result"
    }
   ],
   "source": [
    "total_df.isnull().sum() # 서킷 브레이크 30분 동안의 결측치 "
   ]
  },
  {
   "cell_type": "markdown",
   "id": "58676a52",
   "metadata": {},
   "source": [
    "## ffill하지만 서킷브레이크 값 결측치 살리기 "
   ]
  },
  {
   "cell_type": "code",
   "execution_count": 39,
   "id": "e2cc42d3",
   "metadata": {},
   "outputs": [],
   "source": [
    "with open('../data/processed/kospi200_ffill_clean_version_Nan.pkl', 'wb') as f:\n",
    "    pickle.dump(total_df, f)"
   ]
  },
  {
   "cell_type": "code",
   "execution_count": 33,
   "id": "4d985613",
   "metadata": {},
   "outputs": [
    {
     "data": {
      "text/plain": [
       "date         0\n",
       "time         0\n",
       "open         0\n",
       "high         0\n",
       "low          0\n",
       "close        0\n",
       "prevClose    0\n",
       "vol          0\n",
       "dtype: int64"
      ]
     },
     "execution_count": 33,
     "metadata": {},
     "output_type": "execute_result"
    }
   ],
   "source": [
    "final_df = total_df[~total_df.isnull().any(axis=1)]\n",
    "final_df.isnull().sum()"
   ]
  },
  {
   "cell_type": "code",
   "execution_count": 34,
   "id": "e37af6c5",
   "metadata": {},
   "outputs": [],
   "source": [
    "with open('../data/processed/kospi200_ffill_clean_version.pkl', 'wb') as f:\n",
    "    pickle.dump(final_df, f)"
   ]
  },
  {
   "cell_type": "code",
   "execution_count": null,
   "id": "9e5c8733",
   "metadata": {},
   "outputs": [],
   "source": []
  }
 ],
 "metadata": {
  "kernelspec": {
   "display_name": "ML",
   "language": "python",
   "name": "python3"
  },
  "language_info": {
   "codemirror_mode": {
    "name": "ipython",
    "version": 3
   },
   "file_extension": ".py",
   "mimetype": "text/x-python",
   "name": "python",
   "nbconvert_exporter": "python",
   "pygments_lexer": "ipython3",
   "version": "3.10.16"
  }
 },
 "nbformat": 4,
 "nbformat_minor": 5
}
