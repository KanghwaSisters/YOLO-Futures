{
 "cells": [
  {
   "cell_type": "markdown",
   "id": "1feec824",
   "metadata": {},
   "source": [
    "## Import"
   ]
  },
  {
   "cell_type": "code",
   "execution_count": null,
   "id": "9c862f36",
   "metadata": {},
   "outputs": [],
   "source": [
    "import pickle\n",
    "import matplotlib.pyplot as plt\n",
    "import warnings\n",
    "\n",
    "from config import CONFIG\n",
    "from easydict import EasyDict\n",
    "\n",
    "from env.env_f import *\n",
    "from state.state import *\n",
    "from agent.PPOAgent_ms import *\n",
    "from models.CTTS import *\n",
    "from trainer.nonEpisodic import *\n",
    "from trainer.Episodic import *\n",
    "from datahandler.scaler import *\n",
    "from utils.setDevice import *\n",
    "from utils.timestepRelated import *\n",
    "from visualization.methods import *"
   ]
  },
  {
   "cell_type": "code",
   "execution_count": null,
   "id": "b97e2f62",
   "metadata": {},
   "outputs": [],
   "source": [
    "warnings.filterwarnings(\"ignore\", category=FutureWarning)"
   ]
  },
  {
   "cell_type": "markdown",
   "id": "dda9c68b",
   "metadata": {},
   "source": [
    "## Load"
   ]
  },
  {
   "cell_type": "code",
   "execution_count": null,
   "id": "7abbd783",
   "metadata": {},
   "outputs": [],
   "source": [
    "with open('../data/processed/kospi200_ffill_clean_version.pkl', 'rb') as f:\n",
    "    df = pickle.load(f)\n",
    "\n",
    "print(df.shape)\n",
    "df.head(5)"
   ]
  },
  {
   "cell_type": "markdown",
   "id": "addc1f34",
   "metadata": {},
   "source": [
    "## Set State info • scaler"
   ]
  },
  {
   "cell_type": "code",
   "execution_count": null,
   "id": "e73505a1",
   "metadata": {},
   "outputs": [],
   "source": [
    "# target_values = ['open', 'high', 'low', 'close', \n",
    "#                 'vol','return_5', 'return_10', 'volume_change', 'ema_5', \n",
    "#                 'ema_20', 'ema_cross', 'cci', 'sar', '%K', \n",
    "#                 '%D', 'roc', 'rsi', 'obv', 'ad_line', \n",
    "#                 'bb_upper', 'bb_lower', 'bb_width', 'atr', 'gap_size']\n",
    "\n",
    "target_values = ['close', 'high', 'low',\n",
    "                'ema_5', 'ema_20', 'ema_cross',\n",
    "                'rsi', '%K', '%D', 'cci',\n",
    "                'atr', 'bb_width',\n",
    "                'obv', 'volume_change']\n",
    "\n",
    "scaler = RobustScaler()"
   ]
  },
  {
   "cell_type": "markdown",
   "id": "bd500cb0",
   "metadata": {},
   "source": [
    "## Set Env info "
   ]
  },
  {
   "cell_type": "code",
   "execution_count": null,
   "id": "6fafab11",
   "metadata": {},
   "outputs": [],
   "source": [
    "train_valid_timestep = split_date_ranges_by_group(df.index[:70000], n_group=5, train_ratio=0.9) # \n",
    "train_valid_timestep "
   ]
  },
  {
   "cell_type": "code",
   "execution_count": null,
   "id": "dc6df86c",
   "metadata": {},
   "outputs": [],
   "source": [
    "device = get_device() # torch.device(\"cpu\")  \n",
    "\n",
    "CONFIG.INPUT_DIM = len(target_values)\n",
    "CONFIG.REWARD_FTN = risk_adjusted_pnl_reward\n",
    "CONFIG.DONE_FTN = is_day_changed\n",
    "CONFIG.TRAIN_VALID_TIMESTEP = train_valid_timestep\n",
    "CONFIG.SCALER = scaler"
   ]
  },
  {
   "cell_type": "code",
   "execution_count": null,
   "id": "69a45823",
   "metadata": {},
   "outputs": [],
   "source": [
    "state =  State(target_values)\n",
    "\n",
    "model = MultiStatePV(\n",
    "    input_dim=CONFIG.INPUT_DIM,\n",
    "    agent_input_dim=CONFIG.AGENT_INPUT_DIM,\n",
    "    embed_dim=CONFIG.EMBED_DIM,\n",
    "    kernel_size=CONFIG.KERNEL_SIZE,\n",
    "    stride=CONFIG.STRIDE,\n",
    "    action_size=CONFIG.N_ACTIONS,\n",
    "    device=device,\n",
    "    agent_hidden_dim=CONFIG.AGENT_HIDDEN_DIM,\n",
    "    agent_out_dim=CONFIG.AGENT_OUT_DIM,\n",
    "    fusion_hidden_dim=CONFIG.FUSION_HIDDEN_DIM,\n",
    "    num_layers=CONFIG.NUM_LAYERS,\n",
    "    num_heads=CONFIG.NUM_HEADS,\n",
    "    d_ff=CONFIG.D_FF,\n",
    "    dropout=CONFIG.DROPOUT\n",
    ")\n",
    "\n",
    "agent = PPOAgent(\n",
    "    action_space=CONFIG.ACTION_SPACE,\n",
    "    n_actions=CONFIG.N_ACTIONS,\n",
    "    model=model,\n",
    "    value_coeff=CONFIG.VALUE_COEFF,\n",
    "    entropy_coeff=CONFIG.ENTROPY_COEFF,\n",
    "    clip_eps=CONFIG.CLIP_EPS,\n",
    "    gamma=CONFIG.GAMMA,\n",
    "    lr=CONFIG.LR,\n",
    "    batch_size=CONFIG.BATCH_SIZE,\n",
    "    epoch=CONFIG.EPOCH,\n",
    "    device=device\n",
    ")"
   ]
  },
  {
   "cell_type": "code",
   "execution_count": null,
   "id": "4f4199c4",
   "metadata": {},
   "outputs": [],
   "source": [
    "trainer = EpisodicTrainer( # NonEpisodicTrainer\n",
    "    df=df,\n",
    "    env=FuturesEnvironment,\n",
    "    train_valid_timestep=CONFIG.TRAIN_VALID_TIMESTEP,\n",
    "    window_size=CONFIG.WINDOW_SIZE,\n",
    "    state=state,\n",
    "    reward_ftn=CONFIG.REWARD_FTN,\n",
    "    done_ftn=CONFIG.DONE_FTN,\n",
    "    start_budget=CONFIG.START_BUDGET,\n",
    "    scaler=CONFIG.SCALER,\n",
    "    position_cap=CONFIG.POSITION_CAP,\n",
    "    agent=agent,\n",
    "    model=model,\n",
    "    optimizer=optim.Adam,\n",
    "    device=CONFIG.DEVICE,\n",
    "    n_steps=CONFIG.N_STEPS,\n",
    "    ma_interval=CONFIG.MA_INTERVAL,\n",
    "    save_interval=CONFIG.SAVE_INTERVAL,\n",
    "    path=CONFIG.PATH\n",
    ")\n",
    "\n",
    "trainer.save(CONFIG)\n",
    "trainer()"
   ]
  }
 ],
 "metadata": {
  "kernelspec": {
   "display_name": "ML",
   "language": "python",
   "name": "python3"
  },
  "language_info": {
   "codemirror_mode": {
    "name": "ipython",
    "version": 3
   },
   "file_extension": ".py",
   "mimetype": "text/x-python",
   "name": "python",
   "nbconvert_exporter": "python",
   "pygments_lexer": "ipython3",
   "version": "3.10.16"
  }
 },
 "nbformat": 4,
 "nbformat_minor": 5
}
