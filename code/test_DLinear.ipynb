{
 "cells": [
  {
   "cell_type": "markdown",
   "metadata": {},
   "source": [
    "## Import"
   ]
  },
  {
   "cell_type": "code",
   "execution_count": 10,
   "metadata": {},
   "outputs": [],
   "source": [
    "import pickle\n",
    "import matplotlib.pyplot as plt\n",
    "import warnings\n",
    "\n",
    "from config import CONFIG\n",
    "from easydict import EasyDict\n",
    "\n",
    "from env.env_f import *\n",
    "from state.state import *\n",
    "from agent.PPOAgent_ms import *\n",
    "from models.CTTS import *\n",
    "from models.DLinear import *\n",
    "from trainer.nonEpisodic import *\n",
    "from trainer.Episodic import *\n",
    "from utils.setDevice import *\n",
    "from utils.timestepRelated import *\n",
    "from visualization.methods import *"
   ]
  },
  {
   "cell_type": "code",
   "execution_count": 3,
   "metadata": {},
   "outputs": [],
   "source": [
    "warnings.filterwarnings(\"ignore\", category=FutureWarning)"
   ]
  },
  {
   "cell_type": "markdown",
   "metadata": {},
   "source": [
    "## Load"
   ]
  },
  {
   "cell_type": "code",
   "execution_count": 4,
   "metadata": {},
   "outputs": [
    {
     "data": {
      "text/html": [
       "<div>\n",
       "<style scoped>\n",
       "    .dataframe tbody tr th:only-of-type {\n",
       "        vertical-align: middle;\n",
       "    }\n",
       "\n",
       "    .dataframe tbody tr th {\n",
       "        vertical-align: top;\n",
       "    }\n",
       "\n",
       "    .dataframe thead th {\n",
       "        text-align: right;\n",
       "    }\n",
       "</style>\n",
       "<table border=\"1\" class=\"dataframe\">\n",
       "  <thead>\n",
       "    <tr style=\"text-align: right;\">\n",
       "      <th></th>\n",
       "      <th>date</th>\n",
       "      <th>time</th>\n",
       "      <th>open</th>\n",
       "      <th>high</th>\n",
       "      <th>low</th>\n",
       "      <th>close</th>\n",
       "      <th>prevClose</th>\n",
       "      <th>vol</th>\n",
       "    </tr>\n",
       "  </thead>\n",
       "  <tbody>\n",
       "    <tr>\n",
       "      <th>2010-02-16 09:01:00</th>\n",
       "      <td>20100216</td>\n",
       "      <td>901</td>\n",
       "      <td>207.55</td>\n",
       "      <td>207.65</td>\n",
       "      <td>207.50</td>\n",
       "      <td>207.60</td>\n",
       "      <td>207.5</td>\n",
       "      <td>3985.0</td>\n",
       "    </tr>\n",
       "    <tr>\n",
       "      <th>2010-02-16 09:02:00</th>\n",
       "      <td>20100216</td>\n",
       "      <td>902</td>\n",
       "      <td>207.60</td>\n",
       "      <td>207.65</td>\n",
       "      <td>207.25</td>\n",
       "      <td>207.55</td>\n",
       "      <td>207.5</td>\n",
       "      <td>5095.0</td>\n",
       "    </tr>\n",
       "    <tr>\n",
       "      <th>2010-02-16 09:03:00</th>\n",
       "      <td>20100216</td>\n",
       "      <td>903</td>\n",
       "      <td>207.55</td>\n",
       "      <td>207.80</td>\n",
       "      <td>207.50</td>\n",
       "      <td>207.60</td>\n",
       "      <td>207.5</td>\n",
       "      <td>2175.0</td>\n",
       "    </tr>\n",
       "    <tr>\n",
       "      <th>2010-02-16 09:04:00</th>\n",
       "      <td>20100216</td>\n",
       "      <td>904</td>\n",
       "      <td>207.55</td>\n",
       "      <td>207.85</td>\n",
       "      <td>207.55</td>\n",
       "      <td>207.80</td>\n",
       "      <td>207.5</td>\n",
       "      <td>1301.0</td>\n",
       "    </tr>\n",
       "    <tr>\n",
       "      <th>2010-02-16 09:05:00</th>\n",
       "      <td>20100216</td>\n",
       "      <td>905</td>\n",
       "      <td>207.80</td>\n",
       "      <td>208.15</td>\n",
       "      <td>207.80</td>\n",
       "      <td>208.05</td>\n",
       "      <td>207.5</td>\n",
       "      <td>3870.0</td>\n",
       "    </tr>\n",
       "  </tbody>\n",
       "</table>\n",
       "</div>"
      ],
      "text/plain": [
       "                         date time    open    high     low   close  prevClose  \\\n",
       "2010-02-16 09:01:00  20100216  901  207.55  207.65  207.50  207.60      207.5   \n",
       "2010-02-16 09:02:00  20100216  902  207.60  207.65  207.25  207.55      207.5   \n",
       "2010-02-16 09:03:00  20100216  903  207.55  207.80  207.50  207.60      207.5   \n",
       "2010-02-16 09:04:00  20100216  904  207.55  207.85  207.55  207.80      207.5   \n",
       "2010-02-16 09:05:00  20100216  905  207.80  208.15  207.80  208.05      207.5   \n",
       "\n",
       "                        vol  \n",
       "2010-02-16 09:01:00  3985.0  \n",
       "2010-02-16 09:02:00  5095.0  \n",
       "2010-02-16 09:03:00  2175.0  \n",
       "2010-02-16 09:04:00  1301.0  \n",
       "2010-02-16 09:05:00  3870.0  "
      ]
     },
     "execution_count": 4,
     "metadata": {},
     "output_type": "execute_result"
    }
   ],
   "source": [
    "with open('../data/processed/kospi200_ffill_clean_version.pkl', 'rb') as f:\n",
    "    df = pickle.load(f)\n",
    "\n",
    "df.head(5)"
   ]
  },
  {
   "cell_type": "markdown",
   "metadata": {},
   "source": [
    "## Set State info • scaler"
   ]
  },
  {
   "cell_type": "code",
   "execution_count": 5,
   "metadata": {},
   "outputs": [],
   "source": [
    "target_values = ['open', 'high', 'low', 'close', \n",
    "                'vol','return_5', 'return_10', 'volume_change', 'ema_5', \n",
    "                'ema_20', 'ema_cross', 'cci', 'sar', '%K', \n",
    "                # '%D', 'roc', 'rsi', 'obv', 'ad_line', \n",
    "                'bb_upper', 'bb_lower', 'bb_width', 'atr', 'gap_size']\n",
    "\n",
    "scaler = RobustScaler()"
   ]
  },
  {
   "cell_type": "code",
   "execution_count": 6,
   "metadata": {},
   "outputs": [
    {
     "data": {
      "text/plain": [
       "[(('2010-02-16', '2010-03-22'), ('2010-03-23', '2010-03-25')),\n",
       " (('2010-03-26', '2010-04-28'), ('2010-04-29', '2010-05-03')),\n",
       " (('2010-05-04', '2010-06-09'), ('2010-06-10', '2010-06-14')),\n",
       " (('2010-06-15', '2010-07-19'), ('2010-07-20', '2010-07-22')),\n",
       " (('2010-07-23', '2010-08-27'), ('2010-08-30', '2010-09-01'))]"
      ]
     },
     "execution_count": 6,
     "metadata": {},
     "output_type": "execute_result"
    }
   ],
   "source": [
    "train_valid_timestep = split_date_ranges_by_group(df.index[:50000])\n",
    "train_valid_timestep "
   ]
  },
  {
   "cell_type": "code",
   "execution_count": 7,
   "metadata": {},
   "outputs": [],
   "source": [
    "# \n",
    "execution_strength = CONFIG.MAX_CONTRACT \n",
    "action_space = list(range(-execution_strength, execution_strength+1))\n",
    "n_actions = len(action_space)\n",
    "device = get_device() # torch.device(\"cpu\")  \n",
    "\n",
    "CONFIG.INPUT_DIM = len(target_values)\n",
    "CONFIG.REWARD_FTN = reward_unrealized_pnl_diff_log\n",
    "CONFIG.DONE_FTN = is_day_changed\n",
    "CONFIG.TRAIN_VALID_TIMESTEP = train_valid_timestep\n",
    "CONFIG.SCALER = scaler"
   ]
  },
  {
   "cell_type": "code",
   "execution_count": 11,
   "metadata": {},
   "outputs": [],
   "source": [
    "state =  State(target_values)\n",
    "\n",
    "model = MultiStatePV(\n",
    "    input_dim=CONFIG.INPUT_DIM,\n",
    "    agent_input_dim=CONFIG.AGENT_INPUT_DIM,\n",
    "    embed_dim=CONFIG.EMBED_DIM,\n",
    "    kernel_size=CONFIG.KERNEL_SIZE,\n",
    "    stride=CONFIG.STRIDE,\n",
    "    action_size=CONFIG.N_ACTIONS,\n",
    "    device=device,\n",
    "    agent_hidden_dim=CONFIG.AGENT_HIDDEN_DIM,\n",
    "    agent_out_dim=CONFIG.AGENT_OUT_DIM,\n",
    "    fusion_hidden_dim=CONFIG.FUSION_HIDDEN_DIM,\n",
    "    num_layers=CONFIG.NUM_LAYERS,\n",
    "    num_heads=CONFIG.NUM_HEADS,\n",
    "    d_ff=CONFIG.D_FF,\n",
    "    dropout=CONFIG.DROPOUT\n",
    ")\n",
    "\n",
    "agent = PPOAgent(\n",
    "    action_space=CONFIG.ACTION_SPACE,\n",
    "    n_actions=CONFIG.N_ACTIONS,\n",
    "    model=model,\n",
    "    value_coeff=CONFIG.VALUE_COEFF,\n",
    "    entropy_coeff=CONFIG.ENTROPY_COEFF,\n",
    "    clip_eps=CONFIG.CLIP_EPS,\n",
    "    gamma=CONFIG.GAMMA,\n",
    "    lr=CONFIG.LR,\n",
    "    batch_size=CONFIG.BATCH_SIZE,\n",
    "    epoch=CONFIG.EPOCH,\n",
    "    device=device\n",
    ")"
   ]
  },
  {
   "cell_type": "code",
   "execution_count": 12,
   "metadata": {},
   "outputs": [],
   "source": [
    "trainer = EpisodicTrainer( # NonEpisodicTrainer\n",
    "    df=df,\n",
    "    env=FuturesEnvironment,\n",
    "    train_valid_timestep=CONFIG.TRAIN_VALID_TIMESTEP,\n",
    "    window_size=CONFIG.WINDOW_SIZE,\n",
    "    state=state,\n",
    "    reward_ftn=CONFIG.REWARD_FTN,\n",
    "    done_ftn=CONFIG.DONE_FTN,\n",
    "    start_budget=CONFIG.START_BUDGET,\n",
    "    scaler=CONFIG.SCALER,\n",
    "    position_cap=CONFIG.POSITION_CAP,\n",
    "    agent=agent,\n",
    "    model=model,\n",
    "    optimizer=optim.Adam,\n",
    "    device=CONFIG.DEVICE,\n",
    "    n_steps=CONFIG.N_STEPS,\n",
    "    ma_interval=CONFIG.MA_INTERVAL,\n",
    "    save_interval=CONFIG.SAVE_INTERVAL,\n",
    "    path=CONFIG.PATH\n",
    ")"
   ]
  },
  {
   "cell_type": "code",
   "execution_count": 16,
   "metadata": {},
   "outputs": [
    {
     "name": "stdout",
     "output_type": "stream",
     "text": [
      "== [0] interval training ===========================\n",
      "Robust Scaling Completed.\n",
      "Robust Scaling Completed.\n",
      ">>>> Train : ('2010-02-16', '2010-03-22')\n"
     ]
    },
    {
     "ename": "KeyboardInterrupt",
     "evalue": "",
     "output_type": "error",
     "traceback": [
      "\u001b[31m---------------------------------------------------------------------------\u001b[39m",
      "\u001b[31mKeyboardInterrupt\u001b[39m                         Traceback (most recent call last)",
      "\u001b[36mCell\u001b[39m\u001b[36m \u001b[39m\u001b[32mIn[16]\u001b[39m\u001b[32m, line 1\u001b[39m\n\u001b[32m----> \u001b[39m\u001b[32m1\u001b[39m \u001b[43mtrainer\u001b[49m\u001b[43m(\u001b[49m\u001b[43m)\u001b[49m\n",
      "\u001b[36mFile \u001b[39m\u001b[32m~/Documents/GitHub/YOLO-Futures/code/trainer/nonEpisodic.py:68\u001b[39m, in \u001b[36mNonEpisodicTrainer.__call__\u001b[39m\u001b[34m(self)\u001b[39m\n\u001b[32m     65\u001b[39m \u001b[38;5;28mself\u001b[39m.train_env, \u001b[38;5;28mself\u001b[39m.valid_env = \u001b[38;5;28mself\u001b[39m.set_env(train_interval, valid_interval)\n\u001b[32m     67\u001b[39m \u001b[38;5;28mprint\u001b[39m(\u001b[33mf\u001b[39m\u001b[33m\"\u001b[39m\u001b[33m>>>> Train : \u001b[39m\u001b[38;5;132;01m{\u001b[39;00mtrain_interval\u001b[38;5;132;01m}\u001b[39;00m\u001b[33m\"\u001b[39m)\n\u001b[32m---> \u001b[39m\u001b[32m68\u001b[39m \u001b[38;5;28;43mself\u001b[39;49m\u001b[43m.\u001b[49m\u001b[43mtrain\u001b[49m\u001b[43m(\u001b[49m\u001b[38;5;28;43mself\u001b[39;49m\u001b[43m.\u001b[49m\u001b[43mtrain_env\u001b[49m\u001b[43m,\u001b[49m\u001b[43m \u001b[49m\u001b[38;5;28;43mself\u001b[39;49m\u001b[43m.\u001b[49m\u001b[43magent\u001b[49m\u001b[43m)\u001b[49m\n\u001b[32m     70\u001b[39m \u001b[38;5;28mprint\u001b[39m(\u001b[33mf\u001b[39m\u001b[33m\"\u001b[39m\u001b[33m>>>> Valid : \u001b[39m\u001b[38;5;132;01m{\u001b[39;00mvalid_interval\u001b[38;5;132;01m}\u001b[39;00m\u001b[33m\"\u001b[39m)\n\u001b[32m     72\u001b[39m models = {\u001b[33m'\u001b[39m\u001b[33mlatest model\u001b[39m\u001b[33m'\u001b[39m : \u001b[38;5;28mself\u001b[39m.latest_model, \n\u001b[32m     73\u001b[39m           \u001b[33m'\u001b[39m\u001b[33mhighest reward\u001b[39m\u001b[33m'\u001b[39m : \u001b[38;5;28mself\u001b[39m.reward_king_model, \n\u001b[32m     74\u001b[39m           \u001b[33m'\u001b[39m\u001b[33mper steps\u001b[39m\u001b[33m'\u001b[39m : \u001b[38;5;28mself\u001b[39m.models_per_steps[\u001b[32m0\u001b[39m]}\n",
      "\u001b[36mFile \u001b[39m\u001b[32m~/Documents/GitHub/YOLO-Futures/code/trainer/nonEpisodic.py:247\u001b[39m, in \u001b[36mNonEpisodicTrainer.train\u001b[39m\u001b[34m(self, env, agent)\u001b[39m\n\u001b[32m    245\u001b[39m \u001b[38;5;28;01mif\u001b[39;00m \u001b[38;5;28mlen\u001b[39m(memory) >= agent.batch_size:\n\u001b[32m    246\u001b[39m     advantage = agent.cal_advantage(memory)\n\u001b[32m--> \u001b[39m\u001b[32m247\u001b[39m     loss = \u001b[43magent\u001b[49m\u001b[43m.\u001b[49m\u001b[43mtrain\u001b[49m\u001b[43m(\u001b[49m\u001b[43mmemory\u001b[49m\u001b[43m,\u001b[49m\u001b[43m \u001b[49m\u001b[43madvantage\u001b[49m\u001b[43m)\u001b[49m\n\u001b[32m    248\u001b[39m     memory = []  \u001b[38;5;66;03m# 학습 후에만 초기화\u001b[39;00m\n\u001b[32m    250\u001b[39m action_prop = (ep_n_positions / \u001b[38;5;28msum\u001b[39m(ep_n_positions) * \u001b[32m100\u001b[39m).round(\u001b[32m0\u001b[39m)\n",
      "\u001b[36mFile \u001b[39m\u001b[32m~/Documents/GitHub/YOLO-Futures/code/agent/PPOAgent_ms.py:251\u001b[39m, in \u001b[36mPPOAgent.train\u001b[39m\u001b[34m(self, memory, advantage)\u001b[39m\n\u001b[32m    249\u001b[39m \u001b[38;5;66;03m# get current values \u001b[39;00m\n\u001b[32m    250\u001b[39m \u001b[38;5;28mself\u001b[39m.model.train()\n\u001b[32m--> \u001b[39m\u001b[32m251\u001b[39m current_logits, values = \u001b[38;5;28;43mself\u001b[39;49m\u001b[43m.\u001b[49m\u001b[43mmodel\u001b[49m\u001b[43m(\u001b[49m\u001b[43mstates\u001b[49m\u001b[43m)\u001b[49m\n\u001b[32m    253\u001b[39m \u001b[38;5;28;01mif\u001b[39;00m masks \u001b[38;5;129;01mis\u001b[39;00m \u001b[38;5;129;01mnot\u001b[39;00m \u001b[38;5;28;01mNone\u001b[39;00m:\n\u001b[32m    254\u001b[39m     \u001b[38;5;66;03m# mask: shape [n_actions] with 1 (valid) or 0 (invalid)\u001b[39;00m\n\u001b[32m    255\u001b[39m     current_logits = current_logits.masked_fill(masks == \u001b[32m0\u001b[39m, \u001b[38;5;28mfloat\u001b[39m(\u001b[33m'\u001b[39m\u001b[33m-inf\u001b[39m\u001b[33m'\u001b[39m))\n",
      "\u001b[36mFile \u001b[39m\u001b[32m~/Documents/GitHub/YOLO-Futures/venv/lib/python3.13/site-packages/torch/nn/modules/module.py:1751\u001b[39m, in \u001b[36mModule._wrapped_call_impl\u001b[39m\u001b[34m(self, *args, **kwargs)\u001b[39m\n\u001b[32m   1749\u001b[39m     \u001b[38;5;28;01mreturn\u001b[39;00m \u001b[38;5;28mself\u001b[39m._compiled_call_impl(*args, **kwargs)  \u001b[38;5;66;03m# type: ignore[misc]\u001b[39;00m\n\u001b[32m   1750\u001b[39m \u001b[38;5;28;01melse\u001b[39;00m:\n\u001b[32m-> \u001b[39m\u001b[32m1751\u001b[39m     \u001b[38;5;28;01mreturn\u001b[39;00m \u001b[38;5;28;43mself\u001b[39;49m\u001b[43m.\u001b[49m\u001b[43m_call_impl\u001b[49m\u001b[43m(\u001b[49m\u001b[43m*\u001b[49m\u001b[43margs\u001b[49m\u001b[43m,\u001b[49m\u001b[43m \u001b[49m\u001b[43m*\u001b[49m\u001b[43m*\u001b[49m\u001b[43mkwargs\u001b[49m\u001b[43m)\u001b[49m\n",
      "\u001b[36mFile \u001b[39m\u001b[32m~/Documents/GitHub/YOLO-Futures/venv/lib/python3.13/site-packages/torch/nn/modules/module.py:1762\u001b[39m, in \u001b[36mModule._call_impl\u001b[39m\u001b[34m(self, *args, **kwargs)\u001b[39m\n\u001b[32m   1757\u001b[39m \u001b[38;5;66;03m# If we don't have any hooks, we want to skip the rest of the logic in\u001b[39;00m\n\u001b[32m   1758\u001b[39m \u001b[38;5;66;03m# this function, and just call forward.\u001b[39;00m\n\u001b[32m   1759\u001b[39m \u001b[38;5;28;01mif\u001b[39;00m \u001b[38;5;129;01mnot\u001b[39;00m (\u001b[38;5;28mself\u001b[39m._backward_hooks \u001b[38;5;129;01mor\u001b[39;00m \u001b[38;5;28mself\u001b[39m._backward_pre_hooks \u001b[38;5;129;01mor\u001b[39;00m \u001b[38;5;28mself\u001b[39m._forward_hooks \u001b[38;5;129;01mor\u001b[39;00m \u001b[38;5;28mself\u001b[39m._forward_pre_hooks\n\u001b[32m   1760\u001b[39m         \u001b[38;5;129;01mor\u001b[39;00m _global_backward_pre_hooks \u001b[38;5;129;01mor\u001b[39;00m _global_backward_hooks\n\u001b[32m   1761\u001b[39m         \u001b[38;5;129;01mor\u001b[39;00m _global_forward_hooks \u001b[38;5;129;01mor\u001b[39;00m _global_forward_pre_hooks):\n\u001b[32m-> \u001b[39m\u001b[32m1762\u001b[39m     \u001b[38;5;28;01mreturn\u001b[39;00m \u001b[43mforward_call\u001b[49m\u001b[43m(\u001b[49m\u001b[43m*\u001b[49m\u001b[43margs\u001b[49m\u001b[43m,\u001b[49m\u001b[43m \u001b[49m\u001b[43m*\u001b[49m\u001b[43m*\u001b[49m\u001b[43mkwargs\u001b[49m\u001b[43m)\u001b[49m\n\u001b[32m   1764\u001b[39m result = \u001b[38;5;28;01mNone\u001b[39;00m\n\u001b[32m   1765\u001b[39m called_always_called_hooks = \u001b[38;5;28mset\u001b[39m()\n",
      "\u001b[36mFile \u001b[39m\u001b[32m~/Documents/GitHub/YOLO-Futures/code/models/CTTS.py:308\u001b[39m, in \u001b[36mMultiStatePV.forward\u001b[39m\u001b[34m(self, x)\u001b[39m\n\u001b[32m    306\u001b[39m \u001b[38;5;28;01mdef\u001b[39;00m\u001b[38;5;250m \u001b[39m\u001b[34mforward\u001b[39m(\u001b[38;5;28mself\u001b[39m, x):\n\u001b[32m    307\u001b[39m     ts_state, agent_state = x\n\u001b[32m--> \u001b[39m\u001b[32m308\u001b[39m     ts_out = \u001b[38;5;28;43mself\u001b[39;49m\u001b[43m.\u001b[49m\u001b[43mtimeseries_block\u001b[49m\u001b[43m(\u001b[49m\u001b[43mts_state\u001b[49m\u001b[43m)\u001b[49m       \u001b[38;5;66;03m# (B, embed_dim)\u001b[39;00m\n\u001b[32m    309\u001b[39m     agent_out = \u001b[38;5;28mself\u001b[39m.agent_block(agent_state)      \u001b[38;5;66;03m# (B, agent_out_dim)\u001b[39;00m\n\u001b[32m    311\u001b[39m     fused = torch.cat([ts_out, agent_out], dim=\u001b[32m1\u001b[39m)  \u001b[38;5;66;03m# (B, embed + agent_out)\u001b[39;00m\n",
      "\u001b[36mFile \u001b[39m\u001b[32m~/Documents/GitHub/YOLO-Futures/venv/lib/python3.13/site-packages/torch/nn/modules/module.py:1751\u001b[39m, in \u001b[36mModule._wrapped_call_impl\u001b[39m\u001b[34m(self, *args, **kwargs)\u001b[39m\n\u001b[32m   1749\u001b[39m     \u001b[38;5;28;01mreturn\u001b[39;00m \u001b[38;5;28mself\u001b[39m._compiled_call_impl(*args, **kwargs)  \u001b[38;5;66;03m# type: ignore[misc]\u001b[39;00m\n\u001b[32m   1750\u001b[39m \u001b[38;5;28;01melse\u001b[39;00m:\n\u001b[32m-> \u001b[39m\u001b[32m1751\u001b[39m     \u001b[38;5;28;01mreturn\u001b[39;00m \u001b[38;5;28;43mself\u001b[39;49m\u001b[43m.\u001b[49m\u001b[43m_call_impl\u001b[49m\u001b[43m(\u001b[49m\u001b[43m*\u001b[49m\u001b[43margs\u001b[49m\u001b[43m,\u001b[49m\u001b[43m \u001b[49m\u001b[43m*\u001b[49m\u001b[43m*\u001b[49m\u001b[43mkwargs\u001b[49m\u001b[43m)\u001b[49m\n",
      "\u001b[36mFile \u001b[39m\u001b[32m~/Documents/GitHub/YOLO-Futures/venv/lib/python3.13/site-packages/torch/nn/modules/module.py:1762\u001b[39m, in \u001b[36mModule._call_impl\u001b[39m\u001b[34m(self, *args, **kwargs)\u001b[39m\n\u001b[32m   1757\u001b[39m \u001b[38;5;66;03m# If we don't have any hooks, we want to skip the rest of the logic in\u001b[39;00m\n\u001b[32m   1758\u001b[39m \u001b[38;5;66;03m# this function, and just call forward.\u001b[39;00m\n\u001b[32m   1759\u001b[39m \u001b[38;5;28;01mif\u001b[39;00m \u001b[38;5;129;01mnot\u001b[39;00m (\u001b[38;5;28mself\u001b[39m._backward_hooks \u001b[38;5;129;01mor\u001b[39;00m \u001b[38;5;28mself\u001b[39m._backward_pre_hooks \u001b[38;5;129;01mor\u001b[39;00m \u001b[38;5;28mself\u001b[39m._forward_hooks \u001b[38;5;129;01mor\u001b[39;00m \u001b[38;5;28mself\u001b[39m._forward_pre_hooks\n\u001b[32m   1760\u001b[39m         \u001b[38;5;129;01mor\u001b[39;00m _global_backward_pre_hooks \u001b[38;5;129;01mor\u001b[39;00m _global_backward_hooks\n\u001b[32m   1761\u001b[39m         \u001b[38;5;129;01mor\u001b[39;00m _global_forward_hooks \u001b[38;5;129;01mor\u001b[39;00m _global_forward_pre_hooks):\n\u001b[32m-> \u001b[39m\u001b[32m1762\u001b[39m     \u001b[38;5;28;01mreturn\u001b[39;00m \u001b[43mforward_call\u001b[49m\u001b[43m(\u001b[49m\u001b[43m*\u001b[49m\u001b[43margs\u001b[49m\u001b[43m,\u001b[49m\u001b[43m \u001b[49m\u001b[43m*\u001b[49m\u001b[43m*\u001b[49m\u001b[43mkwargs\u001b[49m\u001b[43m)\u001b[49m\n\u001b[32m   1764\u001b[39m result = \u001b[38;5;28;01mNone\u001b[39;00m\n\u001b[32m   1765\u001b[39m called_always_called_hooks = \u001b[38;5;28mset\u001b[39m()\n",
      "\u001b[36mFile \u001b[39m\u001b[32m~/Documents/GitHub/YOLO-Futures/code/models/CTTS.py:240\u001b[39m, in \u001b[36mCTTS.forward\u001b[39m\u001b[34m(self, x)\u001b[39m\n\u001b[32m    238\u001b[39m \u001b[38;5;28;01mdef\u001b[39;00m\u001b[38;5;250m \u001b[39m\u001b[34mforward\u001b[39m(\u001b[38;5;28mself\u001b[39m, x):\n\u001b[32m    239\u001b[39m     \u001b[38;5;66;03m# x: (B, T=30, D)\u001b[39;00m\n\u001b[32m--> \u001b[39m\u001b[32m240\u001b[39m     tokens = \u001b[38;5;28;43mself\u001b[39;49m\u001b[43m.\u001b[49m\u001b[43mtokenizer\u001b[49m\u001b[43m(\u001b[49m\u001b[43mx\u001b[49m\u001b[43m)\u001b[49m              \u001b[38;5;66;03m# (B, N_tokens, embed_dim)\u001b[39;00m\n\u001b[32m    241\u001b[39m     encoded = \u001b[38;5;28mself\u001b[39m.encoder(tokens)          \u001b[38;5;66;03m# (B, N_tokens, embed_dim)\u001b[39;00m\n\u001b[32m    243\u001b[39m     \u001b[38;5;66;03m# 대표 토큰을 사용 (e.g., 평균)\u001b[39;00m\n",
      "\u001b[36mFile \u001b[39m\u001b[32m~/Documents/GitHub/YOLO-Futures/venv/lib/python3.13/site-packages/torch/nn/modules/module.py:1751\u001b[39m, in \u001b[36mModule._wrapped_call_impl\u001b[39m\u001b[34m(self, *args, **kwargs)\u001b[39m\n\u001b[32m   1749\u001b[39m     \u001b[38;5;28;01mreturn\u001b[39;00m \u001b[38;5;28mself\u001b[39m._compiled_call_impl(*args, **kwargs)  \u001b[38;5;66;03m# type: ignore[misc]\u001b[39;00m\n\u001b[32m   1750\u001b[39m \u001b[38;5;28;01melse\u001b[39;00m:\n\u001b[32m-> \u001b[39m\u001b[32m1751\u001b[39m     \u001b[38;5;28;01mreturn\u001b[39;00m \u001b[38;5;28;43mself\u001b[39;49m\u001b[43m.\u001b[49m\u001b[43m_call_impl\u001b[49m\u001b[43m(\u001b[49m\u001b[43m*\u001b[49m\u001b[43margs\u001b[49m\u001b[43m,\u001b[49m\u001b[43m \u001b[49m\u001b[43m*\u001b[49m\u001b[43m*\u001b[49m\u001b[43mkwargs\u001b[49m\u001b[43m)\u001b[49m\n",
      "\u001b[36mFile \u001b[39m\u001b[32m~/Documents/GitHub/YOLO-Futures/venv/lib/python3.13/site-packages/torch/nn/modules/module.py:1762\u001b[39m, in \u001b[36mModule._call_impl\u001b[39m\u001b[34m(self, *args, **kwargs)\u001b[39m\n\u001b[32m   1757\u001b[39m \u001b[38;5;66;03m# If we don't have any hooks, we want to skip the rest of the logic in\u001b[39;00m\n\u001b[32m   1758\u001b[39m \u001b[38;5;66;03m# this function, and just call forward.\u001b[39;00m\n\u001b[32m   1759\u001b[39m \u001b[38;5;28;01mif\u001b[39;00m \u001b[38;5;129;01mnot\u001b[39;00m (\u001b[38;5;28mself\u001b[39m._backward_hooks \u001b[38;5;129;01mor\u001b[39;00m \u001b[38;5;28mself\u001b[39m._backward_pre_hooks \u001b[38;5;129;01mor\u001b[39;00m \u001b[38;5;28mself\u001b[39m._forward_hooks \u001b[38;5;129;01mor\u001b[39;00m \u001b[38;5;28mself\u001b[39m._forward_pre_hooks\n\u001b[32m   1760\u001b[39m         \u001b[38;5;129;01mor\u001b[39;00m _global_backward_pre_hooks \u001b[38;5;129;01mor\u001b[39;00m _global_backward_hooks\n\u001b[32m   1761\u001b[39m         \u001b[38;5;129;01mor\u001b[39;00m _global_forward_hooks \u001b[38;5;129;01mor\u001b[39;00m _global_forward_pre_hooks):\n\u001b[32m-> \u001b[39m\u001b[32m1762\u001b[39m     \u001b[38;5;28;01mreturn\u001b[39;00m \u001b[43mforward_call\u001b[49m\u001b[43m(\u001b[49m\u001b[43m*\u001b[49m\u001b[43margs\u001b[49m\u001b[43m,\u001b[49m\u001b[43m \u001b[49m\u001b[43m*\u001b[49m\u001b[43m*\u001b[49m\u001b[43mkwargs\u001b[49m\u001b[43m)\u001b[49m\n\u001b[32m   1764\u001b[39m result = \u001b[38;5;28;01mNone\u001b[39;00m\n\u001b[32m   1765\u001b[39m called_always_called_hooks = \u001b[38;5;28mset\u001b[39m()\n",
      "\u001b[36mFile \u001b[39m\u001b[32m~/Documents/GitHub/YOLO-Futures/code/models/CTTS.py:199\u001b[39m, in \u001b[36mCNNTokenizer.forward\u001b[39m\u001b[34m(self, x)\u001b[39m\n\u001b[32m    196\u001b[39m \u001b[38;5;28;01mdef\u001b[39;00m\u001b[38;5;250m \u001b[39m\u001b[34mforward\u001b[39m(\u001b[38;5;28mself\u001b[39m, x):\n\u001b[32m    197\u001b[39m     \u001b[38;5;66;03m# x shape: (B, T, D) → (B, D, T)\u001b[39;00m\n\u001b[32m    198\u001b[39m     x = x.permute(\u001b[32m0\u001b[39m, \u001b[32m2\u001b[39m, \u001b[32m1\u001b[39m)\n\u001b[32m--> \u001b[39m\u001b[32m199\u001b[39m     x = \u001b[38;5;28;43mself\u001b[39;49m\u001b[43m.\u001b[49m\u001b[43mconv\u001b[49m\u001b[43m(\u001b[49m\u001b[43mx\u001b[49m\u001b[43m)\u001b[49m  \u001b[38;5;66;03m# (B, embed_dim, N_tokens)\u001b[39;00m\n\u001b[32m    200\u001b[39m     x = x.permute(\u001b[32m0\u001b[39m, \u001b[32m2\u001b[39m, \u001b[32m1\u001b[39m)  \u001b[38;5;66;03m# (B, N_tokens, embed_dim)\u001b[39;00m\n\u001b[32m    201\u001b[39m     \u001b[38;5;28;01mreturn\u001b[39;00m x\n",
      "\u001b[36mFile \u001b[39m\u001b[32m~/Documents/GitHub/YOLO-Futures/venv/lib/python3.13/site-packages/torch/nn/modules/module.py:1751\u001b[39m, in \u001b[36mModule._wrapped_call_impl\u001b[39m\u001b[34m(self, *args, **kwargs)\u001b[39m\n\u001b[32m   1749\u001b[39m     \u001b[38;5;28;01mreturn\u001b[39;00m \u001b[38;5;28mself\u001b[39m._compiled_call_impl(*args, **kwargs)  \u001b[38;5;66;03m# type: ignore[misc]\u001b[39;00m\n\u001b[32m   1750\u001b[39m \u001b[38;5;28;01melse\u001b[39;00m:\n\u001b[32m-> \u001b[39m\u001b[32m1751\u001b[39m     \u001b[38;5;28;01mreturn\u001b[39;00m \u001b[38;5;28;43mself\u001b[39;49m\u001b[43m.\u001b[49m\u001b[43m_call_impl\u001b[49m\u001b[43m(\u001b[49m\u001b[43m*\u001b[49m\u001b[43margs\u001b[49m\u001b[43m,\u001b[49m\u001b[43m \u001b[49m\u001b[43m*\u001b[49m\u001b[43m*\u001b[49m\u001b[43mkwargs\u001b[49m\u001b[43m)\u001b[49m\n",
      "\u001b[36mFile \u001b[39m\u001b[32m~/Documents/GitHub/YOLO-Futures/venv/lib/python3.13/site-packages/torch/nn/modules/module.py:1762\u001b[39m, in \u001b[36mModule._call_impl\u001b[39m\u001b[34m(self, *args, **kwargs)\u001b[39m\n\u001b[32m   1757\u001b[39m \u001b[38;5;66;03m# If we don't have any hooks, we want to skip the rest of the logic in\u001b[39;00m\n\u001b[32m   1758\u001b[39m \u001b[38;5;66;03m# this function, and just call forward.\u001b[39;00m\n\u001b[32m   1759\u001b[39m \u001b[38;5;28;01mif\u001b[39;00m \u001b[38;5;129;01mnot\u001b[39;00m (\u001b[38;5;28mself\u001b[39m._backward_hooks \u001b[38;5;129;01mor\u001b[39;00m \u001b[38;5;28mself\u001b[39m._backward_pre_hooks \u001b[38;5;129;01mor\u001b[39;00m \u001b[38;5;28mself\u001b[39m._forward_hooks \u001b[38;5;129;01mor\u001b[39;00m \u001b[38;5;28mself\u001b[39m._forward_pre_hooks\n\u001b[32m   1760\u001b[39m         \u001b[38;5;129;01mor\u001b[39;00m _global_backward_pre_hooks \u001b[38;5;129;01mor\u001b[39;00m _global_backward_hooks\n\u001b[32m   1761\u001b[39m         \u001b[38;5;129;01mor\u001b[39;00m _global_forward_hooks \u001b[38;5;129;01mor\u001b[39;00m _global_forward_pre_hooks):\n\u001b[32m-> \u001b[39m\u001b[32m1762\u001b[39m     \u001b[38;5;28;01mreturn\u001b[39;00m \u001b[43mforward_call\u001b[49m\u001b[43m(\u001b[49m\u001b[43m*\u001b[49m\u001b[43margs\u001b[49m\u001b[43m,\u001b[49m\u001b[43m \u001b[49m\u001b[43m*\u001b[49m\u001b[43m*\u001b[49m\u001b[43mkwargs\u001b[49m\u001b[43m)\u001b[49m\n\u001b[32m   1764\u001b[39m result = \u001b[38;5;28;01mNone\u001b[39;00m\n\u001b[32m   1765\u001b[39m called_always_called_hooks = \u001b[38;5;28mset\u001b[39m()\n",
      "\u001b[36mFile \u001b[39m\u001b[32m~/Documents/GitHub/YOLO-Futures/venv/lib/python3.13/site-packages/torch/nn/modules/conv.py:375\u001b[39m, in \u001b[36mConv1d.forward\u001b[39m\u001b[34m(self, input)\u001b[39m\n\u001b[32m    374\u001b[39m \u001b[38;5;28;01mdef\u001b[39;00m\u001b[38;5;250m \u001b[39m\u001b[34mforward\u001b[39m(\u001b[38;5;28mself\u001b[39m, \u001b[38;5;28minput\u001b[39m: Tensor) -> Tensor:\n\u001b[32m--> \u001b[39m\u001b[32m375\u001b[39m     \u001b[38;5;28;01mreturn\u001b[39;00m \u001b[38;5;28;43mself\u001b[39;49m\u001b[43m.\u001b[49m\u001b[43m_conv_forward\u001b[49m\u001b[43m(\u001b[49m\u001b[38;5;28;43minput\u001b[39;49m\u001b[43m,\u001b[49m\u001b[43m \u001b[49m\u001b[38;5;28;43mself\u001b[39;49m\u001b[43m.\u001b[49m\u001b[43mweight\u001b[49m\u001b[43m,\u001b[49m\u001b[43m \u001b[49m\u001b[38;5;28;43mself\u001b[39;49m\u001b[43m.\u001b[49m\u001b[43mbias\u001b[49m\u001b[43m)\u001b[49m\n",
      "\u001b[36mFile \u001b[39m\u001b[32m~/Documents/GitHub/YOLO-Futures/venv/lib/python3.13/site-packages/torch/nn/modules/conv.py:370\u001b[39m, in \u001b[36mConv1d._conv_forward\u001b[39m\u001b[34m(self, input, weight, bias)\u001b[39m\n\u001b[32m    358\u001b[39m \u001b[38;5;28;01mif\u001b[39;00m \u001b[38;5;28mself\u001b[39m.padding_mode != \u001b[33m\"\u001b[39m\u001b[33mzeros\u001b[39m\u001b[33m\"\u001b[39m:\n\u001b[32m    359\u001b[39m     \u001b[38;5;28;01mreturn\u001b[39;00m F.conv1d(\n\u001b[32m    360\u001b[39m         F.pad(\n\u001b[32m    361\u001b[39m             \u001b[38;5;28minput\u001b[39m, \u001b[38;5;28mself\u001b[39m._reversed_padding_repeated_twice, mode=\u001b[38;5;28mself\u001b[39m.padding_mode\n\u001b[32m   (...)\u001b[39m\u001b[32m    368\u001b[39m         \u001b[38;5;28mself\u001b[39m.groups,\n\u001b[32m    369\u001b[39m     )\n\u001b[32m--> \u001b[39m\u001b[32m370\u001b[39m \u001b[38;5;28;01mreturn\u001b[39;00m \u001b[43mF\u001b[49m\u001b[43m.\u001b[49m\u001b[43mconv1d\u001b[49m\u001b[43m(\u001b[49m\n\u001b[32m    371\u001b[39m \u001b[43m    \u001b[49m\u001b[38;5;28;43minput\u001b[39;49m\u001b[43m,\u001b[49m\u001b[43m \u001b[49m\u001b[43mweight\u001b[49m\u001b[43m,\u001b[49m\u001b[43m \u001b[49m\u001b[43mbias\u001b[49m\u001b[43m,\u001b[49m\u001b[43m \u001b[49m\u001b[38;5;28;43mself\u001b[39;49m\u001b[43m.\u001b[49m\u001b[43mstride\u001b[49m\u001b[43m,\u001b[49m\u001b[43m \u001b[49m\u001b[38;5;28;43mself\u001b[39;49m\u001b[43m.\u001b[49m\u001b[43mpadding\u001b[49m\u001b[43m,\u001b[49m\u001b[43m \u001b[49m\u001b[38;5;28;43mself\u001b[39;49m\u001b[43m.\u001b[49m\u001b[43mdilation\u001b[49m\u001b[43m,\u001b[49m\u001b[43m \u001b[49m\u001b[38;5;28;43mself\u001b[39;49m\u001b[43m.\u001b[49m\u001b[43mgroups\u001b[49m\n\u001b[32m    372\u001b[39m \u001b[43m\u001b[49m\u001b[43m)\u001b[49m\n",
      "\u001b[31mKeyboardInterrupt\u001b[39m: "
     ]
    }
   ],
   "source": [
    "trainer()"
   ]
  },
  {
   "cell_type": "code",
   "execution_count": 17,
   "metadata": {},
   "outputs": [
    {
     "data": {
      "text/plain": [
       "{'timeseries_shape': (30, 25),\n",
       " 'target_timeseries_shape': (30, 19),\n",
       " 'agent_features_count': 6,\n",
       " 'target_values': ['open',\n",
       "  'high',\n",
       "  'low',\n",
       "  'close',\n",
       "  'vol',\n",
       "  'return_5',\n",
       "  'return_10',\n",
       "  'volume_change',\n",
       "  'ema_5',\n",
       "  'ema_20',\n",
       "  'ema_cross',\n",
       "  'cci',\n",
       "  'sar',\n",
       "  '%K',\n",
       "  'bb_upper',\n",
       "  'bb_lower',\n",
       "  'bb_width',\n",
       "  'atr',\n",
       "  'gap_size'],\n",
       " 'target_indices': [0,\n",
       "  1,\n",
       "  2,\n",
       "  3,\n",
       "  4,\n",
       "  6,\n",
       "  7,\n",
       "  8,\n",
       "  9,\n",
       "  10,\n",
       "  11,\n",
       "  12,\n",
       "  13,\n",
       "  14,\n",
       "  20,\n",
       "  21,\n",
       "  22,\n",
       "  23,\n",
       "  24],\n",
       " 'agent_data': [1.0, 50.0, 36740024.0, -393009.5, 1714627.5, 392500.0],\n",
       " 'fixed_agent_dim': None}"
      ]
     },
     "execution_count": 17,
     "metadata": {},
     "output_type": "execute_result"
    }
   ],
   "source": [
    "trainer.state.get_state_info()"
   ]
  },
  {
   "cell_type": "code",
   "execution_count": 21,
   "metadata": {},
   "outputs": [
    {
     "data": {
      "text/plain": [
       "30"
      ]
     },
     "execution_count": 21,
     "metadata": {},
     "output_type": "execute_result"
    }
   ],
   "source": [
    "trainer.state.timeseries_data.shape[0]"
   ]
  },
  {
   "cell_type": "markdown",
   "metadata": {},
   "source": [
    "## Test DLinear"
   ]
  },
  {
   "cell_type": "code",
   "execution_count": 22,
   "metadata": {},
   "outputs": [],
   "source": [
    "model = DLinearModel(window_size=10, \n",
    "                    seq_len=trainer.state.timeseries_data.shape[0],\n",
    "                    pred_len=10,\n",
    "                    channel_size=trainer.state.timeseries_data.shape[1])"
   ]
  },
  {
   "cell_type": "code",
   "execution_count": 26,
   "metadata": {},
   "outputs": [
    {
     "name": "stdout",
     "output_type": "stream",
     "text": [
      "torch.Size([1, 25, 10])\n"
     ]
    }
   ],
   "source": [
    "x = torch.tensor(trainer.state.timeseries_data, dtype=torch.float64)\n",
    "x = x.unsqueeze(0)\n",
    "x_hat = model.forward(x)\n",
    "print(x_hat.size())"
   ]
  },
  {
   "cell_type": "code",
   "execution_count": null,
   "metadata": {},
   "outputs": [],
   "source": []
  }
 ],
 "metadata": {
  "kernelspec": {
   "display_name": "Python 3.13.1 ('venv': venv)",
   "language": "python",
   "name": "python3"
  },
  "language_info": {
   "codemirror_mode": {
    "name": "ipython",
    "version": 3
   },
   "file_extension": ".py",
   "mimetype": "text/x-python",
   "name": "python",
   "nbconvert_exporter": "python",
   "pygments_lexer": "ipython3",
   "version": "3.13.1"
  },
  "orig_nbformat": 4,
  "vscode": {
   "interpreter": {
    "hash": "056c93810524f9e1b9cf145ccd77094c91236f8877507e5ecd4c98bbdbcd7453"
   }
  }
 },
 "nbformat": 4,
 "nbformat_minor": 2
}
